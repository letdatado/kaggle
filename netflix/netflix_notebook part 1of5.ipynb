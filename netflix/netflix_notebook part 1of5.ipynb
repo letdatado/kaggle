{
 "cells": [
  {
   "cell_type": "markdown",
   "metadata": {},
   "source": [
    "# Netflix Movies and TV Shows\n",
    "![image](netflix.png)"
   ]
  },
  {
   "cell_type": "markdown",
   "metadata": {},
   "source": [
    "## Introduction:\n",
    "Netflix is one of the most popular media and video streaming platforms. They have over 8000 movies or tv shows available on their platform, as of mid-2021, they have over 200M Subscribers globally. This tabular dataset consists of listings of all the movies and tv shows available on Netflix, along with details such as - cast, directors, ratings, release year, duration, etc.\n",
    "\n",
    "## Data Dictionary and Resources\n",
    "|Column|Description|\n",
    "|:----:|:---------:|\n",
    "|show_id|Unique ID for every Movie / TV show|\n",
    "|type|Identifier - A Movie or TV Show|\n",
    "|title|Title of the Movie / Tv Show|\n",
    "|director|Director of the Movie|\n",
    "|cast|Actors involved in the movie / show|\n",
    "|country|Country where the movie / show was produced|\n",
    "|date_added|Date it was added on Netflix|\n",
    "|release_year|Actual Release year of the move / show|\n",
    "|rating|TV Rating of the movie / show|\n",
    "|duration|Total Duration - in minutes or number of seasons|\n",
    "|listed_in|Genere|\n",
    "|description|The summary description|\n",
    "\n",
    "### Resource: \n",
    "[link](https://www.kaggle.com/shivamb/netflix-shows)\n",
    "\n",
    "## Tasks:\n",
    "1. Understanding what content is available in different countries\n",
    "2. Identifying similar content by matching text-based features\n",
    "3. Network analysis of Actors / Directors and find interesting insights\n",
    "\n",
    "4. **Does Netflix has more focus on TV Shows than movies in recent years.** <font color='blue'> The task is addressed in this notebook\n",
    "\n",
    "---"
   ]
  },
  {
   "cell_type": "code",
   "execution_count": 1,
   "metadata": {},
   "outputs": [],
   "source": [
    "# import libraries\n",
    "import numpy as np\n",
    "import pandas as pd\n",
    "import matplotlib.pyplot as plt\n",
    "import seaborn as sns\n",
    "import re\n",
    "%matplotlib inline "
   ]
  },
  {
   "cell_type": "code",
   "execution_count": 2,
   "metadata": {},
   "outputs": [],
   "source": [
    "# load dataset\n",
    "netflix = pd.read_csv('netflix_titles.csv')"
   ]
  },
  {
   "cell_type": "markdown",
   "metadata": {},
   "source": [
    "--- "
   ]
  },
  {
   "cell_type": "code",
   "execution_count": 3,
   "metadata": {},
   "outputs": [
    {
     "data": {
      "text/html": [
       "<div>\n",
       "<style scoped>\n",
       "    .dataframe tbody tr th:only-of-type {\n",
       "        vertical-align: middle;\n",
       "    }\n",
       "\n",
       "    .dataframe tbody tr th {\n",
       "        vertical-align: top;\n",
       "    }\n",
       "\n",
       "    .dataframe thead th {\n",
       "        text-align: right;\n",
       "    }\n",
       "</style>\n",
       "<table border=\"1\" class=\"dataframe\">\n",
       "  <thead>\n",
       "    <tr style=\"text-align: right;\">\n",
       "      <th></th>\n",
       "      <th>show_id</th>\n",
       "      <th>type</th>\n",
       "      <th>title</th>\n",
       "      <th>director</th>\n",
       "      <th>cast</th>\n",
       "      <th>country</th>\n",
       "      <th>date_added</th>\n",
       "      <th>release_year</th>\n",
       "      <th>rating</th>\n",
       "      <th>duration</th>\n",
       "      <th>listed_in</th>\n",
       "      <th>description</th>\n",
       "    </tr>\n",
       "  </thead>\n",
       "  <tbody>\n",
       "    <tr>\n",
       "      <th>0</th>\n",
       "      <td>s1</td>\n",
       "      <td>Movie</td>\n",
       "      <td>Dick Johnson Is Dead</td>\n",
       "      <td>Kirsten Johnson</td>\n",
       "      <td>NaN</td>\n",
       "      <td>United States</td>\n",
       "      <td>September 25, 2021</td>\n",
       "      <td>2020</td>\n",
       "      <td>PG-13</td>\n",
       "      <td>90 min</td>\n",
       "      <td>Documentaries</td>\n",
       "      <td>As her father nears the end of his life, filmm...</td>\n",
       "    </tr>\n",
       "    <tr>\n",
       "      <th>1</th>\n",
       "      <td>s2</td>\n",
       "      <td>TV Show</td>\n",
       "      <td>Blood &amp; Water</td>\n",
       "      <td>NaN</td>\n",
       "      <td>Ama Qamata, Khosi Ngema, Gail Mabalane, Thaban...</td>\n",
       "      <td>South Africa</td>\n",
       "      <td>September 24, 2021</td>\n",
       "      <td>2021</td>\n",
       "      <td>TV-MA</td>\n",
       "      <td>2 Seasons</td>\n",
       "      <td>International TV Shows, TV Dramas, TV Mysteries</td>\n",
       "      <td>After crossing paths at a party, a Cape Town t...</td>\n",
       "    </tr>\n",
       "    <tr>\n",
       "      <th>2</th>\n",
       "      <td>s3</td>\n",
       "      <td>TV Show</td>\n",
       "      <td>Ganglands</td>\n",
       "      <td>Julien Leclercq</td>\n",
       "      <td>Sami Bouajila, Tracy Gotoas, Samuel Jouy, Nabi...</td>\n",
       "      <td>NaN</td>\n",
       "      <td>September 24, 2021</td>\n",
       "      <td>2021</td>\n",
       "      <td>TV-MA</td>\n",
       "      <td>1 Season</td>\n",
       "      <td>Crime TV Shows, International TV Shows, TV Act...</td>\n",
       "      <td>To protect his family from a powerful drug lor...</td>\n",
       "    </tr>\n",
       "    <tr>\n",
       "      <th>3</th>\n",
       "      <td>s4</td>\n",
       "      <td>TV Show</td>\n",
       "      <td>Jailbirds New Orleans</td>\n",
       "      <td>NaN</td>\n",
       "      <td>NaN</td>\n",
       "      <td>NaN</td>\n",
       "      <td>September 24, 2021</td>\n",
       "      <td>2021</td>\n",
       "      <td>TV-MA</td>\n",
       "      <td>1 Season</td>\n",
       "      <td>Docuseries, Reality TV</td>\n",
       "      <td>Feuds, flirtations and toilet talk go down amo...</td>\n",
       "    </tr>\n",
       "    <tr>\n",
       "      <th>4</th>\n",
       "      <td>s5</td>\n",
       "      <td>TV Show</td>\n",
       "      <td>Kota Factory</td>\n",
       "      <td>NaN</td>\n",
       "      <td>Mayur More, Jitendra Kumar, Ranjan Raj, Alam K...</td>\n",
       "      <td>India</td>\n",
       "      <td>September 24, 2021</td>\n",
       "      <td>2021</td>\n",
       "      <td>TV-MA</td>\n",
       "      <td>2 Seasons</td>\n",
       "      <td>International TV Shows, Romantic TV Shows, TV ...</td>\n",
       "      <td>In a city of coaching centers known to train I...</td>\n",
       "    </tr>\n",
       "  </tbody>\n",
       "</table>\n",
       "</div>"
      ],
      "text/plain": [
       "  show_id     type                  title         director  \\\n",
       "0      s1    Movie   Dick Johnson Is Dead  Kirsten Johnson   \n",
       "1      s2  TV Show          Blood & Water              NaN   \n",
       "2      s3  TV Show              Ganglands  Julien Leclercq   \n",
       "3      s4  TV Show  Jailbirds New Orleans              NaN   \n",
       "4      s5  TV Show           Kota Factory              NaN   \n",
       "\n",
       "                                                cast        country  \\\n",
       "0                                                NaN  United States   \n",
       "1  Ama Qamata, Khosi Ngema, Gail Mabalane, Thaban...   South Africa   \n",
       "2  Sami Bouajila, Tracy Gotoas, Samuel Jouy, Nabi...            NaN   \n",
       "3                                                NaN            NaN   \n",
       "4  Mayur More, Jitendra Kumar, Ranjan Raj, Alam K...          India   \n",
       "\n",
       "           date_added  release_year rating   duration  \\\n",
       "0  September 25, 2021          2020  PG-13     90 min   \n",
       "1  September 24, 2021          2021  TV-MA  2 Seasons   \n",
       "2  September 24, 2021          2021  TV-MA   1 Season   \n",
       "3  September 24, 2021          2021  TV-MA   1 Season   \n",
       "4  September 24, 2021          2021  TV-MA  2 Seasons   \n",
       "\n",
       "                                           listed_in  \\\n",
       "0                                      Documentaries   \n",
       "1    International TV Shows, TV Dramas, TV Mysteries   \n",
       "2  Crime TV Shows, International TV Shows, TV Act...   \n",
       "3                             Docuseries, Reality TV   \n",
       "4  International TV Shows, Romantic TV Shows, TV ...   \n",
       "\n",
       "                                         description  \n",
       "0  As her father nears the end of his life, filmm...  \n",
       "1  After crossing paths at a party, a Cape Town t...  \n",
       "2  To protect his family from a powerful drug lor...  \n",
       "3  Feuds, flirtations and toilet talk go down amo...  \n",
       "4  In a city of coaching centers known to train I...  "
      ]
     },
     "execution_count": 3,
     "metadata": {},
     "output_type": "execute_result"
    }
   ],
   "source": [
    "netflix.head()"
   ]
  },
  {
   "cell_type": "markdown",
   "metadata": {},
   "source": [
    "Lets check if we have duplicate rows"
   ]
  },
  {
   "cell_type": "code",
   "execution_count": 4,
   "metadata": {},
   "outputs": [
    {
     "data": {
      "text/plain": [
       "0"
      ]
     },
     "execution_count": 4,
     "metadata": {},
     "output_type": "execute_result"
    }
   ],
   "source": [
    "netflix.duplicated().sum()"
   ]
  },
  {
   "cell_type": "markdown",
   "metadata": {},
   "source": [
    "- **No duplicates found**"
   ]
  },
  {
   "cell_type": "code",
   "execution_count": 5,
   "metadata": {},
   "outputs": [
    {
     "name": "stdout",
     "output_type": "stream",
     "text": [
      "<class 'pandas.core.frame.DataFrame'>\n",
      "RangeIndex: 8807 entries, 0 to 8806\n",
      "Data columns (total 12 columns):\n",
      " #   Column        Non-Null Count  Dtype \n",
      "---  ------        --------------  ----- \n",
      " 0   show_id       8807 non-null   object\n",
      " 1   type          8807 non-null   object\n",
      " 2   title         8807 non-null   object\n",
      " 3   director      6173 non-null   object\n",
      " 4   cast          7982 non-null   object\n",
      " 5   country       7976 non-null   object\n",
      " 6   date_added    8797 non-null   object\n",
      " 7   release_year  8807 non-null   int64 \n",
      " 8   rating        8803 non-null   object\n",
      " 9   duration      8804 non-null   object\n",
      " 10  listed_in     8807 non-null   object\n",
      " 11  description   8807 non-null   object\n",
      "dtypes: int64(1), object(11)\n",
      "memory usage: 825.8+ KB\n"
     ]
    }
   ],
   "source": [
    "netflix.info()"
   ]
  },
  {
   "cell_type": "markdown",
   "metadata": {},
   "source": [
    "- Following columns have Null values\n",
    "    - `director`\n",
    "    - `cast`\n",
    "    - `country`\n",
    "    - `date_added`\n",
    "    - `rating`\n",
    "    - `duration`\n",
    "\n",
    "Lets look into each of the columns and understand what measures could be taken for the missing values "
   ]
  },
  {
   "cell_type": "code",
   "execution_count": 6,
   "metadata": {},
   "outputs": [],
   "source": [
    "# Introduce a list to contain columns with missing values\n",
    "null_cols = list()\n",
    "\n",
    "# Append the column names\n",
    "for col in netflix.columns:\n",
    "    if netflix[col].isnull().any() == True:\n",
    "        null_cols.append(col)"
   ]
  },
  {
   "cell_type": "code",
   "execution_count": 7,
   "metadata": {},
   "outputs": [
    {
     "name": "stdout",
     "output_type": "stream",
     "text": [
      "------------------------------------------------------------------------------------------------------------------------\n",
      "director\n",
      "--> NUMER OF NULL VALUES:  2634\n",
      "NaN                        2634\n",
      "Rajiv Chilaka                19\n",
      "Raúl Campos, Jan Suter       18\n",
      "Marcus Raboy                 16\n",
      "Suhas Kadav                  16\n",
      "                           ... \n",
      "Louie Schwartzberg            1\n",
      "Gary Michael Schultz          1\n",
      "Ben Brewer, Alex Brewer       1\n",
      "Tània Balló                   1\n",
      "Michael Kampa                 1\n",
      "Name: director, Length: 4529, dtype: int64\n",
      "------------------------------------------------------------------------------------------------------------------------\n",
      "cast\n",
      "--> NUMER OF NULL VALUES:  825\n",
      "NaN                                                                                                                                            825\n",
      "David Attenborough                                                                                                                              19\n",
      "Vatsal Dubey, Julie Tejwani, Rupa Bhimani, Jigna Bhardwaj, Rajesh Kava, Mousam, Swapnil                                                         14\n",
      "Samuel West                                                                                                                                     10\n",
      "Jeff Dunham                                                                                                                                      7\n",
      "                                                                                                                                              ... \n",
      "Ben Mendelsohn, Edie Falco, Connie Britton, Thomas Mann, Bill Camp, Elizabeth Marvel, Charlie Tahan, Michael Gaston, Josh Pais                   1\n",
      "Bruno Guéraçague                                                                                                                                 1\n",
      "Timothy Omundson, Thaila Ayala, Eric Bauza, Graham Verchere, Jordana Largy, Scott McNeil, Adrian Glynn McMorran, Chelsea Miller, Sean Tyson      1\n",
      "Rana Eid                                                                                                                                         1\n",
      "Aaron Yan, Tia Lee, Jack Lee, Katherine Wang, Beatrice Fang, Vince Kao, Chen Bor Jeng                                                            1\n",
      "Name: cast, Length: 7693, dtype: int64\n",
      "------------------------------------------------------------------------------------------------------------------------\n",
      "country\n",
      "--> NUMER OF NULL VALUES:  831\n",
      "United States                                                           2818\n",
      "India                                                                    972\n",
      "NaN                                                                      831\n",
      "United Kingdom                                                           419\n",
      "Japan                                                                    245\n",
      "                                                                        ... \n",
      "Australia, United Kingdom, United States, New Zealand, Italy, France       1\n",
      "Hungary, United States                                                     1\n",
      "United States, Senegal                                                     1\n",
      "Zimbabwe                                                                   1\n",
      "United Kingdom, France, United States, Belgium                             1\n",
      "Name: country, Length: 749, dtype: int64\n",
      "------------------------------------------------------------------------------------------------------------------------\n",
      "date_added\n",
      "--> NUMER OF NULL VALUES:  10\n",
      "January 1, 2020       109\n",
      "November 1, 2019       89\n",
      "March 1, 2018          75\n",
      "December 31, 2019      74\n",
      "October 1, 2018        71\n",
      "                     ... \n",
      "December 5, 2018        1\n",
      " September 1, 2019      1\n",
      "May 31, 2018            1\n",
      "February 4, 2017        1\n",
      "October 2, 2015         1\n",
      "Name: date_added, Length: 1768, dtype: int64\n",
      "------------------------------------------------------------------------------------------------------------------------\n",
      "rating\n",
      "--> NUMER OF NULL VALUES:  4\n",
      "TV-MA       3207\n",
      "TV-14       2160\n",
      "TV-PG        863\n",
      "R            799\n",
      "PG-13        490\n",
      "TV-Y7        334\n",
      "TV-Y         307\n",
      "PG           287\n",
      "TV-G         220\n",
      "NR            80\n",
      "G             41\n",
      "TV-Y7-FV       6\n",
      "NaN            4\n",
      "UR             3\n",
      "NC-17          3\n",
      "84 min         1\n",
      "74 min         1\n",
      "66 min         1\n",
      "Name: rating, dtype: int64\n",
      "------------------------------------------------------------------------------------------------------------------------\n",
      "duration\n",
      "--> NUMER OF NULL VALUES:  3\n",
      "1 Season     1793\n",
      "2 Seasons     425\n",
      "3 Seasons     199\n",
      "90 min        152\n",
      "97 min        146\n",
      "             ... \n",
      "194 min         1\n",
      "203 min         1\n",
      "273 min         1\n",
      "200 min         1\n",
      "230 min         1\n",
      "Name: duration, Length: 221, dtype: int64\n"
     ]
    }
   ],
   "source": [
    "for col in netflix[null_cols]:\n",
    "    print('-'*120)\n",
    "    print(col)\n",
    "    print('--> NUMER OF NULL VALUES: ', netflix[null_cols][col].isnull().sum())\n",
    "    print(netflix[null_cols][col].value_counts(dropna=False))"
   ]
  },
  {
   "cell_type": "markdown",
   "metadata": {},
   "source": [
    "- Among the columns with missing values, there is a considerable gap among the numbers. So there might be a need of addressing them separately.\n",
    "    - Columns like `director`, `cast`, `country` consist of 2634, 825, and 831 null values.\n",
    "    - Whereas the columns `date_added`, `rating`, and `duration` contain 10, 4, and 3 null values. \n",
    "\n",
    "Lets move on to figuring out the cardinality of our columns"
   ]
  },
  {
   "cell_type": "code",
   "execution_count": 8,
   "metadata": {},
   "outputs": [
    {
     "data": {
      "text/plain": [
       "show_id         8807\n",
       "type               2\n",
       "title           8807\n",
       "director        4528\n",
       "cast            7692\n",
       "country          748\n",
       "date_added      1767\n",
       "release_year      74\n",
       "rating            17\n",
       "duration         220\n",
       "listed_in        514\n",
       "description     8775\n",
       "dtype: int64"
      ]
     },
     "execution_count": 8,
     "metadata": {},
     "output_type": "execute_result"
    }
   ],
   "source": [
    "netflix.nunique()"
   ]
  },
  {
   "cell_type": "markdown",
   "metadata": {},
   "source": [
    "- Columns such as `type`, `rating`, and `release_year` contain 2, 17, and 74,  i-e, fewer than 100 unique values out of 8807 sample points\n",
    "\n",
    "---\n",
    "\n",
    "Since our dataset contains a lot of textual information and there are not many columns either, lets take peeks into each og the columns to establish familiarity with what kind of information column is giving and how the column is structured\n",
    "\n",
    "## Peeking the columns induvidually"
   ]
  },
  {
   "cell_type": "markdown",
   "metadata": {},
   "source": [
    "**The column `show_id`**"
   ]
  },
  {
   "cell_type": "code",
   "execution_count": 9,
   "metadata": {},
   "outputs": [
    {
     "data": {
      "text/plain": [
       "8807"
      ]
     },
     "execution_count": 9,
     "metadata": {},
     "output_type": "execute_result"
    }
   ],
   "source": [
    "netflix['show_id'].nunique()"
   ]
  },
  {
   "cell_type": "markdown",
   "metadata": {},
   "source": [
    "- The show id is a unique identifiier for each of the sample. Therefore, 100% unqiue"
   ]
  },
  {
   "cell_type": "code",
   "execution_count": 10,
   "metadata": {},
   "outputs": [
    {
     "data": {
      "text/plain": [
       "True"
      ]
     },
     "execution_count": 10,
     "metadata": {},
     "output_type": "execute_result"
    }
   ],
   "source": [
    "# Check if all show IDs begin with the letter 's', \n",
    "netflix.show_id.str.startswith('s').all()"
   ]
  },
  {
   "cell_type": "code",
   "execution_count": 11,
   "metadata": {},
   "outputs": [
    {
     "name": "stderr",
     "output_type": "stream",
     "text": [
      "C:\\Users\\Dell\\anaconda3\\lib\\site-packages\\pandas\\core\\strings.py:1954: UserWarning: This pattern has match groups. To actually get the groups, use str.extract.\n",
      "  return func(self, *args, **kwargs)\n"
     ]
    },
    {
     "data": {
      "text/plain": [
       "True"
      ]
     },
     "execution_count": 11,
     "metadata": {},
     "output_type": "execute_result"
    }
   ],
   "source": [
    "# ... and followed by a numeric pattern \n",
    "netflix['show_id'].str.contains('^.*[s](\\d+)').all()"
   ]
  },
  {
   "cell_type": "markdown",
   "metadata": {},
   "source": [
    "- indeed, our `show_id`  begin with the letter s and followed by some numbers\n",
    "- **There is no null value**"
   ]
  },
  {
   "cell_type": "markdown",
   "metadata": {},
   "source": [
    "**The column `type`**"
   ]
  },
  {
   "cell_type": "code",
   "execution_count": 12,
   "metadata": {},
   "outputs": [
    {
     "data": {
      "text/plain": [
       "Movie      6131\n",
       "TV Show    2676\n",
       "Name: type, dtype: int64"
      ]
     },
     "execution_count": 12,
     "metadata": {},
     "output_type": "execute_result"
    }
   ],
   "source": [
    "netflix.type.value_counts(dropna=True)"
   ]
  },
  {
   "cell_type": "markdown",
   "metadata": {},
   "source": [
    "- The column `type` classifies the sample for either being a *Movie* or a *TV Show*, hence a **Categorical Variable**\n",
    "- **No Null value found!**"
   ]
  },
  {
   "cell_type": "markdown",
   "metadata": {},
   "source": [
    "#### The column `title`"
   ]
  },
  {
   "cell_type": "code",
   "execution_count": 13,
   "metadata": {},
   "outputs": [
    {
     "data": {
      "text/plain": [
       "Super Monsters Back to School    1\n",
       "Mumbai Matinee                   1\n",
       "Letters to Juliet                1\n",
       "Marvel's Luke Cage               1\n",
       "Chelsea Does                     1\n",
       "                                ..\n",
       "Thambi                           1\n",
       "The Shannara Chronicles          1\n",
       "Elisa & Marcela                  1\n",
       "Dear Dad                         1\n",
       "Vampires                         1\n",
       "Name: title, Length: 8807, dtype: int64"
      ]
     },
     "execution_count": 13,
     "metadata": {},
     "output_type": "execute_result"
    }
   ],
   "source": [
    "netflix.title.value_counts()"
   ]
  },
  {
   "cell_type": "code",
   "execution_count": 14,
   "metadata": {},
   "outputs": [
    {
     "data": {
      "text/plain": [
       "8807"
      ]
     },
     "execution_count": 14,
     "metadata": {},
     "output_type": "execute_result"
    }
   ],
   "source": [
    "netflix['title'].nunique()"
   ]
  },
  {
   "cell_type": "markdown",
   "metadata": {},
   "source": [
    "- These are the titles of the each sample, they are 100% unique. \n",
    "- *This leads us to consider dropping `show_id`*"
   ]
  },
  {
   "cell_type": "markdown",
   "metadata": {},
   "source": [
    "#### The column `director`"
   ]
  },
  {
   "cell_type": "code",
   "execution_count": 15,
   "metadata": {},
   "outputs": [
    {
     "data": {
      "text/plain": [
       "NaN                        2634\n",
       "Rajiv Chilaka                19\n",
       "Raúl Campos, Jan Suter       18\n",
       "Marcus Raboy                 16\n",
       "Suhas Kadav                  16\n",
       "                           ... \n",
       "Louie Schwartzberg            1\n",
       "Gary Michael Schultz          1\n",
       "Ben Brewer, Alex Brewer       1\n",
       "Tània Balló                   1\n",
       "Michael Kampa                 1\n",
       "Name: director, Length: 4529, dtype: int64"
      ]
     },
     "execution_count": 15,
     "metadata": {},
     "output_type": "execute_result"
    }
   ],
   "source": [
    "netflix['director'].value_counts(dropna=False)"
   ]
  },
  {
   "cell_type": "markdown",
   "metadata": {},
   "source": [
    "- 2634 movies / TV shows do not have a director mentioned\n",
    "- We can see that for some Movies / TV Shows, we can have more than one director. \n",
    "Lets check it"
   ]
  },
  {
   "cell_type": "code",
   "execution_count": 16,
   "metadata": {},
   "outputs": [
    {
     "data": {
      "text/plain": [
       "1     5559\n",
       "2      542\n",
       "3       37\n",
       "4       15\n",
       "5        7\n",
       "7        2\n",
       "8        1\n",
       "9        2\n",
       "10       3\n",
       "11       2\n",
       "12       2\n",
       "13       1\n",
       "Name: director, dtype: int64"
      ]
     },
     "execution_count": 16,
     "metadata": {},
     "output_type": "execute_result"
    }
   ],
   "source": [
    "# Since we have some null values, we first replace them with a string, convert into object, split at comma, and calculate lenght\n",
    "# ser_director shows INVALID frequency for movies/TV shows with 1 director.\n",
    "ser_director = pd.Series(netflix['director'].replace(np.nan, 'false_string!').astype('object').str.split(',').apply(lambda x: len(x)))\n",
    "\n",
    "# Getting a series of the frequency table.\n",
    "ser_num_directors = pd.Series(ser_director.value_counts())\n",
    "\n",
    "# an important correction!. Subtracting the missing values masked with n/a\n",
    "ser_num_directors[1] = ser_num_directors[1] - 2634\n",
    "\n",
    "ser_num_directors.sort_index()"
   ]
  },
  {
   "cell_type": "markdown",
   "metadata": {},
   "source": [
    "- We have 2634 samples that do not have a director(s) name stated. Therefore, there are 2634 NaNs\n",
    "- Around 5559 movies / TV shows have one director, followed by 545 movies / TV shows that have a pair of directors.\n",
    "- In few cases, the number of directors are much higher and go as high as 13."
   ]
  },
  {
   "cell_type": "markdown",
   "metadata": {},
   "source": [
    "#### The column `cast`"
   ]
  },
  {
   "cell_type": "code",
   "execution_count": 17,
   "metadata": {},
   "outputs": [
    {
     "data": {
      "text/plain": [
       "NaN                                                                                                                                            825\n",
       "David Attenborough                                                                                                                              19\n",
       "Vatsal Dubey, Julie Tejwani, Rupa Bhimani, Jigna Bhardwaj, Rajesh Kava, Mousam, Swapnil                                                         14\n",
       "Samuel West                                                                                                                                     10\n",
       "Jeff Dunham                                                                                                                                      7\n",
       "                                                                                                                                              ... \n",
       "Ben Mendelsohn, Edie Falco, Connie Britton, Thomas Mann, Bill Camp, Elizabeth Marvel, Charlie Tahan, Michael Gaston, Josh Pais                   1\n",
       "Bruno Guéraçague                                                                                                                                 1\n",
       "Timothy Omundson, Thaila Ayala, Eric Bauza, Graham Verchere, Jordana Largy, Scott McNeil, Adrian Glynn McMorran, Chelsea Miller, Sean Tyson      1\n",
       "Rana Eid                                                                                                                                         1\n",
       "Aaron Yan, Tia Lee, Jack Lee, Katherine Wang, Beatrice Fang, Vince Kao, Chen Bor Jeng                                                            1\n",
       "Name: cast, Length: 7693, dtype: int64"
      ]
     },
     "execution_count": 17,
     "metadata": {},
     "output_type": "execute_result"
    }
   ],
   "source": [
    "netflix['cast'].value_counts(dropna=False)"
   ]
  },
  {
   "cell_type": "code",
   "execution_count": 18,
   "metadata": {},
   "outputs": [
    {
     "data": {
      "text/plain": [
       "(-0.001, 5.0]    1917\n",
       "(5.0, 10.0]      4546\n",
       "(10.0, 15.0]     1212\n",
       "(15.0, 20.0]      210\n",
       "(20.0, 25.0]       52\n",
       "(25.0, 30.0]       19\n",
       "(30.0, 35.0]       10\n",
       "(35.0, 40.0]        7\n",
       "(40.0, 45.0]        4\n",
       "(45.0, 50.0]        5\n",
       "(50.0, 55.0]        0\n",
       "Name: cast, dtype: int64"
      ]
     },
     "execution_count": 18,
     "metadata": {},
     "output_type": "execute_result"
    }
   ],
   "source": [
    "# Since we have some null values, we first replace them with a string, convert into object, split at comma, and calculate lenght\n",
    "# ser_cast shows INVALID frequency for movies/TV shows with 1 actor.\n",
    "ser_cast = pd.Series(netflix['cast'].replace(np.nan, 'false_string!').astype('object').str.split(',').apply(lambda x: len(x)))\n",
    "\n",
    "# Getting a series of the frequency table.\n",
    "ser_num_cast = pd.Series(ser_cast.value_counts(bins=np.arange(0,60,5)))\n",
    "\n",
    "# an important correction!. Subtracting the missing values masked with n/a\n",
    "ser_num_cast.iloc[1] = ser_num_cast.iloc[1] - 825\n",
    "\n",
    "ser_num_cast.sort_index()"
   ]
  },
  {
   "cell_type": "markdown",
   "metadata": {},
   "source": [
    "- We have a range of the cast size for different movies and TV shows ranging from 1 to 50!, however. aorund 6500 movies/TV shows contain less than 10 actors participating. \n",
    "- Around 8000 movies have the cast size less than of 20, meaning that less than or equal to 20 actors performed in the movie/TV show"
   ]
  },
  {
   "cell_type": "markdown",
   "metadata": {},
   "source": [
    "#### The column `country`"
   ]
  },
  {
   "cell_type": "code",
   "execution_count": 19,
   "metadata": {},
   "outputs": [
    {
     "data": {
      "text/plain": [
       "United States                                                           2818\n",
       "India                                                                    972\n",
       "NaN                                                                      831\n",
       "United Kingdom                                                           419\n",
       "Japan                                                                    245\n",
       "                                                                        ... \n",
       "Australia, United Kingdom, United States, New Zealand, Italy, France       1\n",
       "Hungary, United States                                                     1\n",
       "United States, Senegal                                                     1\n",
       "Zimbabwe                                                                   1\n",
       "United Kingdom, France, United States, Belgium                             1\n",
       "Name: country, Length: 749, dtype: int64"
      ]
     },
     "execution_count": 19,
     "metadata": {},
     "output_type": "execute_result"
    }
   ],
   "source": [
    "netflix['country'].value_counts(dropna=False)"
   ]
  },
  {
   "cell_type": "markdown",
   "metadata": {},
   "source": [
    "- 831 movie/TV shows do not have a country of production stated. **So 831 NaNs**\n",
    "- There are movies/TV shows that are produced in multiple countries.\n",
    "- For others, most of the movies/TV shows are produced in USA alone."
   ]
  },
  {
   "cell_type": "code",
   "execution_count": 20,
   "metadata": {},
   "outputs": [
    {
     "data": {
      "text/plain": [
       "United States     3690\n",
       "India             1046\n",
       "United Kingdom     806\n",
       "Canada             445\n",
       "France             393\n",
       "                  ... \n",
       "Mongolia             1\n",
       "Angola               1\n",
       "Bahamas              1\n",
       "Malawi               1\n",
       "Montenegro           1\n",
       "Length: 123, dtype: int64"
      ]
     },
     "execution_count": 20,
     "metadata": {},
     "output_type": "execute_result"
    }
   ],
   "source": [
    "# Lets take all the mentions of all the countries in a list\n",
    "countries = list()\n",
    "\n",
    "\n",
    "for row in netflix['country'].dropna().str.split(','): # Dropped NaNs and splitted across commas\n",
    "    for item in row:\n",
    "        countries.append(item)\n",
    "\n",
    "# Building a counter to get frequency table\n",
    "dict_countries = {}\n",
    "for country in countries:\n",
    "    country = str(country.strip()) # Trimming unwanted spaces \n",
    "    if country not in dict_countries:\n",
    "        dict_countries[country] = 1\n",
    "    else:\n",
    "        dict_countries[country] += 1\n",
    "\n",
    "# Please note that the dictionary doesn't mention the NaNs    \n",
    "# Dictionaries are orderless, to sort it we make it a series\n",
    "ser_countries = pd.Series(dict_countries)\n",
    "ser_countries.sort_values(ascending=False)"
   ]
  },
  {
   "cell_type": "markdown",
   "metadata": {},
   "source": [
    "- Around 3690 Movies / TV Shows were produced in **United States**, followed by **India**, where around 1046 Movies / TV Shows were produced"
   ]
  },
  {
   "cell_type": "markdown",
   "metadata": {},
   "source": [
    "#### The column `date_added`"
   ]
  },
  {
   "cell_type": "code",
   "execution_count": 21,
   "metadata": {},
   "outputs": [
    {
     "data": {
      "text/plain": [
       "0    September 25, 2021\n",
       "1    September 24, 2021\n",
       "2    September 24, 2021\n",
       "3    September 24, 2021\n",
       "4    September 24, 2021\n",
       "Name: date_added, dtype: object"
      ]
     },
     "execution_count": 21,
     "metadata": {},
     "output_type": "execute_result"
    }
   ],
   "source": [
    "netflix['date_added'].head()"
   ]
  },
  {
   "cell_type": "code",
   "execution_count": 22,
   "metadata": {},
   "outputs": [],
   "source": [
    "# Changing the column into datetime\n",
    "netflix['date_added'] = netflix['date_added'].apply(pd.to_datetime)"
   ]
  },
  {
   "cell_type": "code",
   "execution_count": 23,
   "metadata": {},
   "outputs": [
    {
     "data": {
      "text/plain": [
       "10"
      ]
     },
     "execution_count": 23,
     "metadata": {},
     "output_type": "execute_result"
    }
   ],
   "source": [
    "netflix['date_added'].isnull().sum()"
   ]
  },
  {
   "cell_type": "markdown",
   "metadata": {},
   "source": [
    "- We have **10 NaNs** in `date_added`"
   ]
  },
  {
   "cell_type": "markdown",
   "metadata": {},
   "source": [
    "#### The column `release_year`"
   ]
  },
  {
   "cell_type": "code",
   "execution_count": 24,
   "metadata": {},
   "outputs": [
    {
     "data": {
      "text/plain": [
       "2018    1147\n",
       "2017    1032\n",
       "2019    1030\n",
       "2020     953\n",
       "2016     902\n",
       "        ... \n",
       "1959       1\n",
       "1961       1\n",
       "1925       1\n",
       "1947       1\n",
       "1966       1\n",
       "Name: release_year, Length: 74, dtype: int64"
      ]
     },
     "execution_count": 24,
     "metadata": {},
     "output_type": "execute_result"
    }
   ],
   "source": [
    "netflix['release_year'].value_counts(dropna=False)"
   ]
  },
  {
   "cell_type": "code",
   "execution_count": 25,
   "metadata": {},
   "outputs": [
    {
     "data": {
      "text/plain": [
       "0"
      ]
     },
     "execution_count": 25,
     "metadata": {},
     "output_type": "execute_result"
    }
   ],
   "source": [
    "netflix['release_year'].isnull().sum()"
   ]
  },
  {
   "cell_type": "code",
   "execution_count": 26,
   "metadata": {},
   "outputs": [
    {
     "name": "stdout",
     "output_type": "stream",
     "text": [
      "The latest year of release is 2021\n"
     ]
    }
   ],
   "source": [
    "print('The latest year of release is',netflix['release_year'].max())"
   ]
  },
  {
   "cell_type": "code",
   "execution_count": 27,
   "metadata": {},
   "outputs": [
    {
     "name": "stdout",
     "output_type": "stream",
     "text": [
      "The earliest year of release is 1925\n"
     ]
    }
   ],
   "source": [
    "print('The earliest year of release is', netflix['release_year'].min())"
   ]
  },
  {
   "cell_type": "markdown",
   "metadata": {},
   "source": [
    "- No Null values in `release_year`\n",
    "- The latest year of a release is 2021, and the earliest year of the release is 1925"
   ]
  },
  {
   "cell_type": "markdown",
   "metadata": {},
   "source": [
    "#### The column `rating`"
   ]
  },
  {
   "cell_type": "code",
   "execution_count": 28,
   "metadata": {},
   "outputs": [
    {
     "data": {
      "text/plain": [
       "TV-MA       3207\n",
       "TV-14       2160\n",
       "TV-PG        863\n",
       "R            799\n",
       "PG-13        490\n",
       "TV-Y7        334\n",
       "TV-Y         307\n",
       "PG           287\n",
       "TV-G         220\n",
       "NR            80\n",
       "G             41\n",
       "TV-Y7-FV       6\n",
       "NaN            4\n",
       "UR             3\n",
       "NC-17          3\n",
       "84 min         1\n",
       "74 min         1\n",
       "66 min         1\n",
       "Name: rating, dtype: int64"
      ]
     },
     "execution_count": 28,
     "metadata": {},
     "output_type": "execute_result"
    }
   ],
   "source": [
    "netflix['rating'].value_counts(dropna=False)"
   ]
  },
  {
   "cell_type": "markdown",
   "metadata": {},
   "source": [
    "- This is a categorical column. \n",
    "- **4 null values** can be found \n",
    "- We can see some bad entries. There are mentions of entries with a regex pattern *'\\d[2]\\s(min)'*, This pattern is rather found in the `duration` column. So we will consider them to be misplaced\n",
    "\n",
    "So lets check these"
   ]
  },
  {
   "cell_type": "code",
   "execution_count": 29,
   "metadata": {},
   "outputs": [
    {
     "data": {
      "text/html": [
       "<div>\n",
       "<style scoped>\n",
       "    .dataframe tbody tr th:only-of-type {\n",
       "        vertical-align: middle;\n",
       "    }\n",
       "\n",
       "    .dataframe tbody tr th {\n",
       "        vertical-align: top;\n",
       "    }\n",
       "\n",
       "    .dataframe thead th {\n",
       "        text-align: right;\n",
       "    }\n",
       "</style>\n",
       "<table border=\"1\" class=\"dataframe\">\n",
       "  <thead>\n",
       "    <tr style=\"text-align: right;\">\n",
       "      <th></th>\n",
       "      <th>show_id</th>\n",
       "      <th>type</th>\n",
       "      <th>title</th>\n",
       "      <th>director</th>\n",
       "      <th>cast</th>\n",
       "      <th>country</th>\n",
       "      <th>date_added</th>\n",
       "      <th>release_year</th>\n",
       "      <th>rating</th>\n",
       "      <th>duration</th>\n",
       "      <th>listed_in</th>\n",
       "      <th>description</th>\n",
       "    </tr>\n",
       "  </thead>\n",
       "  <tbody>\n",
       "    <tr>\n",
       "      <th>5541</th>\n",
       "      <td>s5542</td>\n",
       "      <td>Movie</td>\n",
       "      <td>Louis C.K. 2017</td>\n",
       "      <td>Louis C.K.</td>\n",
       "      <td>Louis C.K.</td>\n",
       "      <td>United States</td>\n",
       "      <td>2017-04-04</td>\n",
       "      <td>2017</td>\n",
       "      <td>74 min</td>\n",
       "      <td>NaN</td>\n",
       "      <td>Movies</td>\n",
       "      <td>Louis C.K. muses on religion, eternal love, gi...</td>\n",
       "    </tr>\n",
       "    <tr>\n",
       "      <th>5794</th>\n",
       "      <td>s5795</td>\n",
       "      <td>Movie</td>\n",
       "      <td>Louis C.K.: Hilarious</td>\n",
       "      <td>Louis C.K.</td>\n",
       "      <td>Louis C.K.</td>\n",
       "      <td>United States</td>\n",
       "      <td>2016-09-16</td>\n",
       "      <td>2010</td>\n",
       "      <td>84 min</td>\n",
       "      <td>NaN</td>\n",
       "      <td>Movies</td>\n",
       "      <td>Emmy-winning comedy writer Louis C.K. brings h...</td>\n",
       "    </tr>\n",
       "    <tr>\n",
       "      <th>5813</th>\n",
       "      <td>s5814</td>\n",
       "      <td>Movie</td>\n",
       "      <td>Louis C.K.: Live at the Comedy Store</td>\n",
       "      <td>Louis C.K.</td>\n",
       "      <td>Louis C.K.</td>\n",
       "      <td>United States</td>\n",
       "      <td>2016-08-15</td>\n",
       "      <td>2015</td>\n",
       "      <td>66 min</td>\n",
       "      <td>NaN</td>\n",
       "      <td>Movies</td>\n",
       "      <td>The comic puts his trademark hilarious/thought...</td>\n",
       "    </tr>\n",
       "  </tbody>\n",
       "</table>\n",
       "</div>"
      ],
      "text/plain": [
       "     show_id   type                                 title    director  \\\n",
       "5541   s5542  Movie                       Louis C.K. 2017  Louis C.K.   \n",
       "5794   s5795  Movie                 Louis C.K.: Hilarious  Louis C.K.   \n",
       "5813   s5814  Movie  Louis C.K.: Live at the Comedy Store  Louis C.K.   \n",
       "\n",
       "            cast        country date_added  release_year  rating duration  \\\n",
       "5541  Louis C.K.  United States 2017-04-04          2017  74 min      NaN   \n",
       "5794  Louis C.K.  United States 2016-09-16          2010  84 min      NaN   \n",
       "5813  Louis C.K.  United States 2016-08-15          2015  66 min      NaN   \n",
       "\n",
       "     listed_in                                        description  \n",
       "5541    Movies  Louis C.K. muses on religion, eternal love, gi...  \n",
       "5794    Movies  Emmy-winning comedy writer Louis C.K. brings h...  \n",
       "5813    Movies  The comic puts his trademark hilarious/thought...  "
      ]
     },
     "execution_count": 29,
     "metadata": {},
     "output_type": "execute_result"
    }
   ],
   "source": [
    "# Checking those possibly 'misplaced' values\n",
    "netflix[netflix['rating'].str.contains('min') == True]"
   ]
  },
  {
   "cell_type": "markdown",
   "metadata": {},
   "source": [
    "- The `duration` column in vacant in these samples. There is a strong possibility that the values in `ratings` actually belonged to `duration`. We will fix it"
   ]
  },
  {
   "cell_type": "code",
   "execution_count": 30,
   "metadata": {},
   "outputs": [
    {
     "name": "stderr",
     "output_type": "stream",
     "text": [
      "C:\\Users\\Dell\\anaconda3\\lib\\site-packages\\pandas\\core\\indexing.py:671: SettingWithCopyWarning: \n",
      "A value is trying to be set on a copy of a slice from a DataFrame\n",
      "\n",
      "See the caveats in the documentation: https://pandas.pydata.org/pandas-docs/stable/user_guide/indexing.html#returning-a-view-versus-a-copy\n",
      "  self._setitem_with_indexer(indexer, value)\n"
     ]
    }
   ],
   "source": [
    "# Take out this troublesome part\n",
    "slice1 = netflix[netflix['rating'].str.contains('min') == True].copy()\n",
    "\n",
    "# Place the values correctly\n",
    "netflix['duration'].loc[slice1.index] = slice1['rating'].copy()\n",
    "\n",
    "# Remove the misplaced values\n",
    "netflix['rating'].loc[slice1.index] = np.nan"
   ]
  },
  {
   "cell_type": "code",
   "execution_count": 31,
   "metadata": {},
   "outputs": [
    {
     "data": {
      "text/html": [
       "<div>\n",
       "<style scoped>\n",
       "    .dataframe tbody tr th:only-of-type {\n",
       "        vertical-align: middle;\n",
       "    }\n",
       "\n",
       "    .dataframe tbody tr th {\n",
       "        vertical-align: top;\n",
       "    }\n",
       "\n",
       "    .dataframe thead th {\n",
       "        text-align: right;\n",
       "    }\n",
       "</style>\n",
       "<table border=\"1\" class=\"dataframe\">\n",
       "  <thead>\n",
       "    <tr style=\"text-align: right;\">\n",
       "      <th></th>\n",
       "      <th>show_id</th>\n",
       "      <th>type</th>\n",
       "      <th>title</th>\n",
       "      <th>director</th>\n",
       "      <th>cast</th>\n",
       "      <th>country</th>\n",
       "      <th>date_added</th>\n",
       "      <th>release_year</th>\n",
       "      <th>rating</th>\n",
       "      <th>duration</th>\n",
       "      <th>listed_in</th>\n",
       "      <th>description</th>\n",
       "    </tr>\n",
       "  </thead>\n",
       "  <tbody>\n",
       "    <tr>\n",
       "      <th>5541</th>\n",
       "      <td>s5542</td>\n",
       "      <td>Movie</td>\n",
       "      <td>Louis C.K. 2017</td>\n",
       "      <td>Louis C.K.</td>\n",
       "      <td>Louis C.K.</td>\n",
       "      <td>United States</td>\n",
       "      <td>2017-04-04</td>\n",
       "      <td>2017</td>\n",
       "      <td>NaN</td>\n",
       "      <td>74 min</td>\n",
       "      <td>Movies</td>\n",
       "      <td>Louis C.K. muses on religion, eternal love, gi...</td>\n",
       "    </tr>\n",
       "    <tr>\n",
       "      <th>5794</th>\n",
       "      <td>s5795</td>\n",
       "      <td>Movie</td>\n",
       "      <td>Louis C.K.: Hilarious</td>\n",
       "      <td>Louis C.K.</td>\n",
       "      <td>Louis C.K.</td>\n",
       "      <td>United States</td>\n",
       "      <td>2016-09-16</td>\n",
       "      <td>2010</td>\n",
       "      <td>NaN</td>\n",
       "      <td>84 min</td>\n",
       "      <td>Movies</td>\n",
       "      <td>Emmy-winning comedy writer Louis C.K. brings h...</td>\n",
       "    </tr>\n",
       "    <tr>\n",
       "      <th>5813</th>\n",
       "      <td>s5814</td>\n",
       "      <td>Movie</td>\n",
       "      <td>Louis C.K.: Live at the Comedy Store</td>\n",
       "      <td>Louis C.K.</td>\n",
       "      <td>Louis C.K.</td>\n",
       "      <td>United States</td>\n",
       "      <td>2016-08-15</td>\n",
       "      <td>2015</td>\n",
       "      <td>NaN</td>\n",
       "      <td>66 min</td>\n",
       "      <td>Movies</td>\n",
       "      <td>The comic puts his trademark hilarious/thought...</td>\n",
       "    </tr>\n",
       "  </tbody>\n",
       "</table>\n",
       "</div>"
      ],
      "text/plain": [
       "     show_id   type                                 title    director  \\\n",
       "5541   s5542  Movie                       Louis C.K. 2017  Louis C.K.   \n",
       "5794   s5795  Movie                 Louis C.K.: Hilarious  Louis C.K.   \n",
       "5813   s5814  Movie  Louis C.K.: Live at the Comedy Store  Louis C.K.   \n",
       "\n",
       "            cast        country date_added  release_year rating duration  \\\n",
       "5541  Louis C.K.  United States 2017-04-04          2017    NaN   74 min   \n",
       "5794  Louis C.K.  United States 2016-09-16          2010    NaN   84 min   \n",
       "5813  Louis C.K.  United States 2016-08-15          2015    NaN   66 min   \n",
       "\n",
       "     listed_in                                        description  \n",
       "5541    Movies  Louis C.K. muses on religion, eternal love, gi...  \n",
       "5794    Movies  Emmy-winning comedy writer Louis C.K. brings h...  \n",
       "5813    Movies  The comic puts his trademark hilarious/thought...  "
      ]
     },
     "execution_count": 31,
     "metadata": {},
     "output_type": "execute_result"
    }
   ],
   "source": [
    "# Confirmation\n",
    "netflix.iloc[slice1.index]"
   ]
  },
  {
   "cell_type": "markdown",
   "metadata": {},
   "source": [
    "- Successful replacement!"
   ]
  },
  {
   "cell_type": "markdown",
   "metadata": {},
   "source": [
    "#### The column `duration`"
   ]
  },
  {
   "cell_type": "code",
   "execution_count": 32,
   "metadata": {},
   "outputs": [
    {
     "data": {
      "text/plain": [
       "0"
      ]
     },
     "execution_count": 32,
     "metadata": {},
     "output_type": "execute_result"
    }
   ],
   "source": [
    "netflix['duration'].isnull().sum()"
   ]
  },
  {
   "cell_type": "code",
   "execution_count": 33,
   "metadata": {},
   "outputs": [
    {
     "data": {
      "text/plain": [
       "1 Season     1793\n",
       "2 Seasons     425\n",
       "3 Seasons     199\n",
       "90 min        152\n",
       "97 min        146\n",
       "             ... \n",
       "196 min         1\n",
       "178 min         1\n",
       "208 min         1\n",
       "16 min          1\n",
       "18 min          1\n",
       "Name: duration, Length: 220, dtype: int64"
      ]
     },
     "execution_count": 33,
     "metadata": {},
     "output_type": "execute_result"
    }
   ],
   "source": [
    "netflix['duration'].value_counts(dropna=False)"
   ]
  },
  {
   "cell_type": "markdown",
   "metadata": {},
   "source": [
    "So apparently, we have the entries ending up with either **Season(s)** or **min**. Lets corraborate it as well. "
   ]
  },
  {
   "cell_type": "code",
   "execution_count": 34,
   "metadata": {},
   "outputs": [
    {
     "data": {
      "text/plain": [
       " min        6131\n",
       " Season     1793\n",
       " Seasons     883\n",
       "Name: 0, dtype: int64"
      ]
     },
     "execution_count": 34,
     "metadata": {},
     "output_type": "execute_result"
    }
   ],
   "source": [
    "ser_duration_check = netflix['duration'].dropna().str.extract('(\\s\\w+)') \n",
    "ser_duration_check[0].value_counts(dropna=False)"
   ]
  },
  {
   "cell_type": "markdown",
   "metadata": {},
   "source": [
    "- Thats Correct! All the data in the column `duration` ends up with either min (minutes) or Season(s)\n",
    "\n",
    "Usually the length of movies is described in hours or minutes (minutes in our case) whereas the TV Shows are described as the number of seasons, episodes etc. I strongly feel that this is the case here as well. Lets check it out "
   ]
  },
  {
   "cell_type": "code",
   "execution_count": 35,
   "metadata": {},
   "outputs": [
    {
     "data": {
      "text/plain": [
       "True"
      ]
     },
     "execution_count": 35,
     "metadata": {},
     "output_type": "execute_result"
    }
   ],
   "source": [
    "netflix[netflix['type'] == 'Movie']['duration'].str.contains('min').all()"
   ]
  },
  {
   "cell_type": "markdown",
   "metadata": {},
   "source": [
    "- All the `duration` of the **movies** are in minutes, *min*"
   ]
  },
  {
   "cell_type": "code",
   "execution_count": 36,
   "metadata": {},
   "outputs": [
    {
     "data": {
      "text/plain": [
       "True"
      ]
     },
     "execution_count": 36,
     "metadata": {},
     "output_type": "execute_result"
    }
   ],
   "source": [
    "netflix[netflix['type'] == 'TV Show']['duration'].str.contains('Season').all()"
   ]
  },
  {
   "cell_type": "markdown",
   "metadata": {},
   "source": [
    "- All the `duration` of the **TV Shows** are in Season(s), i.e. either *Season* or *Seasons*"
   ]
  },
  {
   "cell_type": "markdown",
   "metadata": {},
   "source": [
    "#### The column `listed_in`"
   ]
  },
  {
   "cell_type": "code",
   "execution_count": 37,
   "metadata": {},
   "outputs": [
    {
     "data": {
      "text/plain": [
       "0"
      ]
     },
     "execution_count": 37,
     "metadata": {},
     "output_type": "execute_result"
    }
   ],
   "source": [
    "netflix['listed_in'].isnull().sum()"
   ]
  },
  {
   "cell_type": "code",
   "execution_count": 38,
   "metadata": {},
   "outputs": [],
   "source": [
    "# Lets take all the mentions of all the genres in a list\n",
    "genres = list()\n",
    "\n",
    "\n",
    "for row in netflix['listed_in'].dropna().str.split(','): # Dropped NaNs and splitted across commas\n",
    "    for item in row:\n",
    "        genres.append(item)\n",
    "\n",
    "# Building a counter to get frequency table\n",
    "dict_genres = {}\n",
    "for genre in genres:\n",
    "    genre = str(genre.strip()) # Trimming unwanted spaces \n",
    "    if genre not in dict_genres:\n",
    "        dict_genres[genre] = 1\n",
    "    else:\n",
    "        dict_genres[genre] += 1\n",
    "\n",
    "# Please note that the dictionary doesn't mention the NaNs    \n",
    "# Dictionaries are orderless, to sort it we make it a series\n",
    "ser_genre = pd.Series(dict_genres)\n",
    "ser_genre = ser_genre.sort_values(ascending=False)"
   ]
  },
  {
   "cell_type": "code",
   "execution_count": 39,
   "metadata": {},
   "outputs": [
    {
     "data": {
      "text/plain": [
       "International Movies            2752\n",
       "Dramas                          2427\n",
       "Comedies                        1674\n",
       "International TV Shows          1351\n",
       "Documentaries                    869\n",
       "Action & Adventure               859\n",
       "TV Dramas                        763\n",
       "Independent Movies               756\n",
       "Children & Family Movies         641\n",
       "Romantic Movies                  616\n",
       "TV Comedies                      581\n",
       "Thrillers                        577\n",
       "Crime TV Shows                   470\n",
       "Kids' TV                         451\n",
       "Docuseries                       395\n",
       "Music & Musicals                 375\n",
       "Romantic TV Shows                370\n",
       "Horror Movies                    357\n",
       "Stand-Up Comedy                  343\n",
       "Reality TV                       255\n",
       "British TV Shows                 253\n",
       "Sci-Fi & Fantasy                 243\n",
       "Sports Movies                    219\n",
       "Anime Series                     176\n",
       "Spanish-Language TV Shows        174\n",
       "TV Action & Adventure            168\n",
       "Korean TV Shows                  151\n",
       "Classic Movies                   116\n",
       "LGBTQ Movies                     102\n",
       "TV Mysteries                      98\n",
       "Science & Nature TV               92\n",
       "TV Sci-Fi & Fantasy               84\n",
       "TV Horror                         75\n",
       "Anime Features                    71\n",
       "Cult Movies                       71\n",
       "Teen TV Shows                     69\n",
       "Faith & Spirituality              65\n",
       "TV Thrillers                      57\n",
       "Movies                            57\n",
       "Stand-Up Comedy & Talk Shows      56\n",
       "Classic & Cult TV                 28\n",
       "TV Shows                          16\n",
       "dtype: int64"
      ]
     },
     "execution_count": 39,
     "metadata": {},
     "output_type": "execute_result"
    }
   ],
   "source": [
    "ser_genre"
   ]
  },
  {
   "cell_type": "code",
   "execution_count": 40,
   "metadata": {},
   "outputs": [
    {
     "data": {
      "image/png": "[encoded data removed]",
      "text/plain": [
       "<Figure size 720x720 with 1 Axes>"
      ]
     },
     "metadata": {
      "needs_background": "light"
     },
     "output_type": "display_data"
    }
   ],
   "source": [
    "plt.figure(figsize=(10,10))\n",
    "sns.barplot(x=ser_genre.values, y=ser_genre.index)\n",
    "plt.axvline(1000, linestyle=':')\n",
    "plt.axvline(2000, linestyle='--')\n",
    "plt.title('Frequency of the Movies/TV Shows by\\nGenre', weight='bold', fontsize=26, color='grey')\n",
    "sns.despine()"
   ]
  },
  {
   "cell_type": "markdown",
   "metadata": {},
   "source": [
    "- Genres such as International Movies, and Dramas look very popular with each having 2000+ Movies / TV Shows associated\n",
    "- Next comes the genres such as Comedies, and International TV Shows with each having 1000+ Movies / TV Shows associated\n",
    "\n",
    "P.S 2000, and 1000 are just arbitrary numbers"
   ]
  },
  {
   "cell_type": "markdown",
   "metadata": {},
   "source": [
    "#### The column `description`"
   ]
  },
  {
   "cell_type": "code",
   "execution_count": 41,
   "metadata": {},
   "outputs": [
    {
     "data": {
      "text/plain": [
       "0"
      ]
     },
     "execution_count": 41,
     "metadata": {},
     "output_type": "execute_result"
    }
   ],
   "source": [
    "netflix['description'].isnull().sum()"
   ]
  },
  {
   "cell_type": "code",
   "execution_count": 42,
   "metadata": {},
   "outputs": [
    {
     "data": {
      "text/plain": [
       "0    As her father nears the end of his life, filmm...\n",
       "1    After crossing paths at a party, a Cape Town t...\n",
       "2    To protect his family from a powerful drug lor...\n",
       "3    Feuds, flirtations and toilet talk go down amo...\n",
       "4    In a city of coaching centers known to train I...\n",
       "Name: description, dtype: object"
      ]
     },
     "execution_count": 42,
     "metadata": {},
     "output_type": "execute_result"
    }
   ],
   "source": [
    "netflix['description'].head()"
   ]
  },
  {
   "cell_type": "markdown",
   "metadata": {},
   "source": [
    "- The column contains large texts and has no missing values"
   ]
  },
  {
   "cell_type": "markdown",
   "metadata": {},
   "source": [
    "<font color = 'red'> TO DO"
   ]
  },
  {
   "cell_type": "code",
   "execution_count": 43,
   "metadata": {},
   "outputs": [],
   "source": [
    "### Explain which are categorical variables. \n",
    "### How missing values to be dealt\n",
    "### displaced values\n",
    "### answer questions"
   ]
  },
  {
   "cell_type": "markdown",
   "metadata": {},
   "source": [
    "---"
   ]
  },
  {
   "cell_type": "markdown",
   "metadata": {},
   "source": [
    "## Does Netflix has more focus on TV Shows than movies in recent years?"
   ]
  },
  {
   "cell_type": "code",
   "execution_count": 44,
   "metadata": {},
   "outputs": [],
   "source": [
    "# Extract year from the date_added\n",
    "netflix['year_added'] = netflix['date_added'].dt.year"
   ]
  },
  {
   "cell_type": "code",
   "execution_count": 45,
   "metadata": {},
   "outputs": [
    {
     "data": {
      "text/plain": [
       "year_added  type   \n",
       "2008.0      Movie         1\n",
       "            TV Show       1\n",
       "2009.0      Movie         2\n",
       "2010.0      Movie         1\n",
       "2011.0      Movie        13\n",
       "2012.0      Movie         3\n",
       "2013.0      Movie         6\n",
       "            TV Show       5\n",
       "2014.0      Movie        19\n",
       "            TV Show       5\n",
       "2015.0      Movie        56\n",
       "            TV Show      26\n",
       "2016.0      Movie       253\n",
       "            TV Show     176\n",
       "2017.0      Movie       839\n",
       "            TV Show     349\n",
       "2018.0      Movie      1237\n",
       "            TV Show     412\n",
       "2019.0      Movie      1424\n",
       "            TV Show     592\n",
       "2020.0      Movie      1284\n",
       "            TV Show     595\n",
       "2021.0      Movie       993\n",
       "            TV Show     505\n",
       "Name: type, dtype: int64"
      ]
     },
     "execution_count": 45,
     "metadata": {},
     "output_type": "execute_result"
    }
   ],
   "source": [
    "ser_ans4 = netflix.groupby(['year_added','type'])['type'].count()\n",
    "ser_ans4"
   ]
  },
  {
   "cell_type": "code",
   "execution_count": 46,
   "metadata": {},
   "outputs": [
    {
     "data": {
      "text/html": [
       "<div>\n",
       "<style scoped>\n",
       "    .dataframe tbody tr th:only-of-type {\n",
       "        vertical-align: middle;\n",
       "    }\n",
       "\n",
       "    .dataframe tbody tr th {\n",
       "        vertical-align: top;\n",
       "    }\n",
       "\n",
       "    .dataframe thead th {\n",
       "        text-align: right;\n",
       "    }\n",
       "</style>\n",
       "<table border=\"1\" class=\"dataframe\">\n",
       "  <thead>\n",
       "    <tr style=\"text-align: right;\">\n",
       "      <th>type</th>\n",
       "      <th>Movie</th>\n",
       "      <th>TV Show</th>\n",
       "    </tr>\n",
       "    <tr>\n",
       "      <th>year_added</th>\n",
       "      <th></th>\n",
       "      <th></th>\n",
       "    </tr>\n",
       "  </thead>\n",
       "  <tbody>\n",
       "    <tr>\n",
       "      <th>2008.0</th>\n",
       "      <td>1.0</td>\n",
       "      <td>1.0</td>\n",
       "    </tr>\n",
       "    <tr>\n",
       "      <th>2009.0</th>\n",
       "      <td>2.0</td>\n",
       "      <td>NaN</td>\n",
       "    </tr>\n",
       "    <tr>\n",
       "      <th>2010.0</th>\n",
       "      <td>1.0</td>\n",
       "      <td>NaN</td>\n",
       "    </tr>\n",
       "    <tr>\n",
       "      <th>2011.0</th>\n",
       "      <td>13.0</td>\n",
       "      <td>NaN</td>\n",
       "    </tr>\n",
       "    <tr>\n",
       "      <th>2012.0</th>\n",
       "      <td>3.0</td>\n",
       "      <td>NaN</td>\n",
       "    </tr>\n",
       "    <tr>\n",
       "      <th>2013.0</th>\n",
       "      <td>6.0</td>\n",
       "      <td>5.0</td>\n",
       "    </tr>\n",
       "    <tr>\n",
       "      <th>2014.0</th>\n",
       "      <td>19.0</td>\n",
       "      <td>5.0</td>\n",
       "    </tr>\n",
       "    <tr>\n",
       "      <th>2015.0</th>\n",
       "      <td>56.0</td>\n",
       "      <td>26.0</td>\n",
       "    </tr>\n",
       "    <tr>\n",
       "      <th>2016.0</th>\n",
       "      <td>253.0</td>\n",
       "      <td>176.0</td>\n",
       "    </tr>\n",
       "    <tr>\n",
       "      <th>2017.0</th>\n",
       "      <td>839.0</td>\n",
       "      <td>349.0</td>\n",
       "    </tr>\n",
       "    <tr>\n",
       "      <th>2018.0</th>\n",
       "      <td>1237.0</td>\n",
       "      <td>412.0</td>\n",
       "    </tr>\n",
       "    <tr>\n",
       "      <th>2019.0</th>\n",
       "      <td>1424.0</td>\n",
       "      <td>592.0</td>\n",
       "    </tr>\n",
       "    <tr>\n",
       "      <th>2020.0</th>\n",
       "      <td>1284.0</td>\n",
       "      <td>595.0</td>\n",
       "    </tr>\n",
       "    <tr>\n",
       "      <th>2021.0</th>\n",
       "      <td>993.0</td>\n",
       "      <td>505.0</td>\n",
       "    </tr>\n",
       "  </tbody>\n",
       "</table>\n",
       "</div>"
      ],
      "text/plain": [
       "type         Movie  TV Show\n",
       "year_added                 \n",
       "2008.0         1.0      1.0\n",
       "2009.0         2.0      NaN\n",
       "2010.0         1.0      NaN\n",
       "2011.0        13.0      NaN\n",
       "2012.0         3.0      NaN\n",
       "2013.0         6.0      5.0\n",
       "2014.0        19.0      5.0\n",
       "2015.0        56.0     26.0\n",
       "2016.0       253.0    176.0\n",
       "2017.0       839.0    349.0\n",
       "2018.0      1237.0    412.0\n",
       "2019.0      1424.0    592.0\n",
       "2020.0      1284.0    595.0\n",
       "2021.0       993.0    505.0"
      ]
     },
     "execution_count": 46,
     "metadata": {},
     "output_type": "execute_result"
    }
   ],
   "source": [
    "df_ans4 = ser_ans4.unstack()\n",
    "df_ans4"
   ]
  },
  {
   "cell_type": "code",
   "execution_count": 47,
   "metadata": {},
   "outputs": [],
   "source": [
    "# \n",
    "\n",
    "# Lets fill NaNs with 0 for better operation. By looking at the trends, we can see that NaNs mean no entry\n",
    "df_ans4.fillna(0, inplace=True)\n",
    "\n",
    "# reset index to make year_added a columm\n",
    "df_ans4 = df_ans4.reset_index()\n",
    "\n",
    "# melt to achieve a longer format for seaborn's hue to work\n",
    "ans4 = pd.melt(df_ans4, id_vars='year_added', value_vars=['Movie','TV Show'], var_name='type')"
   ]
  },
  {
   "cell_type": "code",
   "execution_count": 48,
   "metadata": {},
   "outputs": [
    {
     "data": {
      "image/png": "[encoded data removed]",
      "text/plain": [
       "<Figure size 1296x576 with 1 Axes>"
      ]
     },
     "metadata": {
      "needs_background": "light"
     },
     "output_type": "display_data"
    }
   ],
   "source": [
    "# plot\n",
    "plt.figure(figsize=(18,8))\n",
    "sns.barplot(data=ans4, x='year_added', y='value', hue='type', palette='dark')\n",
    "plt.xlabel('The year movie/tv show is added', fontsize=12)\n",
    "plt.ylabel('Total numbers of movies/tv shows added', fontsize=12)\n",
    "plt.title('Total number of additions of Movies/TV Shows per year', \n",
    "          weight='bold', color='grey',\n",
    "          fontsize=30)\n",
    "plt.grid(axis='y', ls='--')\n",
    "sns.despine()"
   ]
  },
  {
   "cell_type": "markdown",
   "metadata": {},
   "source": [
    "\n",
    "### Findings:\n",
    "- From the graph above, we can not say that Netflix has been made any dramatic switch of focus from `Movies` to `TV Shows`. Apparetnly, the Number of TV Shows remain roughly propotionate to the total number of additions (Movies + TV Shows).\n",
    "\n",
    "To look further into this to check for gradual shift of focus (if any), lets relate the number of TV Shows added with the total number of additions, depicted as percentage of TV Shows `tv_shows_as_pc` \n"
   ]
  },
  {
   "cell_type": "code",
   "execution_count": 49,
   "metadata": {},
   "outputs": [
    {
     "data": {
      "text/html": [
       "<div>\n",
       "<style scoped>\n",
       "    .dataframe tbody tr th:only-of-type {\n",
       "        vertical-align: middle;\n",
       "    }\n",
       "\n",
       "    .dataframe tbody tr th {\n",
       "        vertical-align: top;\n",
       "    }\n",
       "\n",
       "    .dataframe thead th {\n",
       "        text-align: right;\n",
       "    }\n",
       "</style>\n",
       "<table border=\"1\" class=\"dataframe\">\n",
       "  <thead>\n",
       "    <tr style=\"text-align: right;\">\n",
       "      <th>type</th>\n",
       "      <th>year_added</th>\n",
       "      <th>Movie</th>\n",
       "      <th>TV Show</th>\n",
       "      <th>total</th>\n",
       "      <th>tv_shows_as_pc</th>\n",
       "    </tr>\n",
       "  </thead>\n",
       "  <tbody>\n",
       "    <tr>\n",
       "      <th>0</th>\n",
       "      <td>2008.0</td>\n",
       "      <td>1.0</td>\n",
       "      <td>1.0</td>\n",
       "      <td>2.0</td>\n",
       "      <td>50.000000</td>\n",
       "    </tr>\n",
       "    <tr>\n",
       "      <th>1</th>\n",
       "      <td>2009.0</td>\n",
       "      <td>2.0</td>\n",
       "      <td>0.0</td>\n",
       "      <td>2.0</td>\n",
       "      <td>0.000000</td>\n",
       "    </tr>\n",
       "    <tr>\n",
       "      <th>2</th>\n",
       "      <td>2010.0</td>\n",
       "      <td>1.0</td>\n",
       "      <td>0.0</td>\n",
       "      <td>1.0</td>\n",
       "      <td>0.000000</td>\n",
       "    </tr>\n",
       "    <tr>\n",
       "      <th>3</th>\n",
       "      <td>2011.0</td>\n",
       "      <td>13.0</td>\n",
       "      <td>0.0</td>\n",
       "      <td>13.0</td>\n",
       "      <td>0.000000</td>\n",
       "    </tr>\n",
       "    <tr>\n",
       "      <th>4</th>\n",
       "      <td>2012.0</td>\n",
       "      <td>3.0</td>\n",
       "      <td>0.0</td>\n",
       "      <td>3.0</td>\n",
       "      <td>0.000000</td>\n",
       "    </tr>\n",
       "    <tr>\n",
       "      <th>5</th>\n",
       "      <td>2013.0</td>\n",
       "      <td>6.0</td>\n",
       "      <td>5.0</td>\n",
       "      <td>11.0</td>\n",
       "      <td>45.454545</td>\n",
       "    </tr>\n",
       "    <tr>\n",
       "      <th>6</th>\n",
       "      <td>2014.0</td>\n",
       "      <td>19.0</td>\n",
       "      <td>5.0</td>\n",
       "      <td>24.0</td>\n",
       "      <td>20.833333</td>\n",
       "    </tr>\n",
       "    <tr>\n",
       "      <th>7</th>\n",
       "      <td>2015.0</td>\n",
       "      <td>56.0</td>\n",
       "      <td>26.0</td>\n",
       "      <td>82.0</td>\n",
       "      <td>31.707317</td>\n",
       "    </tr>\n",
       "    <tr>\n",
       "      <th>8</th>\n",
       "      <td>2016.0</td>\n",
       "      <td>253.0</td>\n",
       "      <td>176.0</td>\n",
       "      <td>429.0</td>\n",
       "      <td>41.025641</td>\n",
       "    </tr>\n",
       "    <tr>\n",
       "      <th>9</th>\n",
       "      <td>2017.0</td>\n",
       "      <td>839.0</td>\n",
       "      <td>349.0</td>\n",
       "      <td>1188.0</td>\n",
       "      <td>29.377104</td>\n",
       "    </tr>\n",
       "    <tr>\n",
       "      <th>10</th>\n",
       "      <td>2018.0</td>\n",
       "      <td>1237.0</td>\n",
       "      <td>412.0</td>\n",
       "      <td>1649.0</td>\n",
       "      <td>24.984839</td>\n",
       "    </tr>\n",
       "    <tr>\n",
       "      <th>11</th>\n",
       "      <td>2019.0</td>\n",
       "      <td>1424.0</td>\n",
       "      <td>592.0</td>\n",
       "      <td>2016.0</td>\n",
       "      <td>29.365079</td>\n",
       "    </tr>\n",
       "    <tr>\n",
       "      <th>12</th>\n",
       "      <td>2020.0</td>\n",
       "      <td>1284.0</td>\n",
       "      <td>595.0</td>\n",
       "      <td>1879.0</td>\n",
       "      <td>31.665780</td>\n",
       "    </tr>\n",
       "    <tr>\n",
       "      <th>13</th>\n",
       "      <td>2021.0</td>\n",
       "      <td>993.0</td>\n",
       "      <td>505.0</td>\n",
       "      <td>1498.0</td>\n",
       "      <td>33.711615</td>\n",
       "    </tr>\n",
       "  </tbody>\n",
       "</table>\n",
       "</div>"
      ],
      "text/plain": [
       "type  year_added   Movie  TV Show   total  tv_shows_as_pc\n",
       "0         2008.0     1.0      1.0     2.0       50.000000\n",
       "1         2009.0     2.0      0.0     2.0        0.000000\n",
       "2         2010.0     1.0      0.0     1.0        0.000000\n",
       "3         2011.0    13.0      0.0    13.0        0.000000\n",
       "4         2012.0     3.0      0.0     3.0        0.000000\n",
       "5         2013.0     6.0      5.0    11.0       45.454545\n",
       "6         2014.0    19.0      5.0    24.0       20.833333\n",
       "7         2015.0    56.0     26.0    82.0       31.707317\n",
       "8         2016.0   253.0    176.0   429.0       41.025641\n",
       "9         2017.0   839.0    349.0  1188.0       29.377104\n",
       "10        2018.0  1237.0    412.0  1649.0       24.984839\n",
       "11        2019.0  1424.0    592.0  2016.0       29.365079\n",
       "12        2020.0  1284.0    595.0  1879.0       31.665780\n",
       "13        2021.0   993.0    505.0  1498.0       33.711615"
      ]
     },
     "execution_count": 49,
     "metadata": {},
     "output_type": "execute_result"
    }
   ],
   "source": [
    "df_ans4['total'] = df_ans4['TV Show'] + df_ans4['Movie']\n",
    "df_ans4['tv_shows_as_pc'] = df_ans4['TV Show']/df_ans4['total']*100\n",
    "df_ans4"
   ]
  },
  {
   "cell_type": "code",
   "execution_count": 50,
   "metadata": {},
   "outputs": [
    {
     "data": {
      "image/png": "[encoded data removed]",
      "text/plain": [
       "<Figure size 1080x504 with 1 Axes>"
      ]
     },
     "metadata": {
      "needs_background": "light"
     },
     "output_type": "display_data"
    }
   ],
   "source": [
    "# plot\n",
    "plt.figure(figsize=(15,7))\n",
    "sns.lineplot(data=df_ans4.iloc[5:], x='year_added', y='tv_shows_as_pc')\n",
    "plt.ylim(0,100)\n",
    "plt.title('TV Shows as % of total additions\\n2013-2021', weight='bold', \n",
    "         color='grey', fontsize=20)\n",
    "plt.ylabel('Percentage of TV Shows against the Total number of Additions\\n(Movies + TV-Shows)', fontsize=12)\n",
    "plt.xlabel('Year \\n The Vertical line signifies the year where the total number of additions crossed 1000', fontsize=12)\n",
    "plt.grid(axis='y', ls='--')\n",
    "plt.axvline(x=2017, color='grey',ls=':')\n",
    "sns.despine()\n",
    "\n",
    "plt.show()\n"
   ]
  },
  {
   "cell_type": "markdown",
   "metadata": {},
   "source": [
    "### Conclusion: \n",
    "- Indeed, It does look like that there has been a gradually increasing focus on TV Shows since 2018.\n",
    "    - In 2018, the TV Shows were around 25% of the total additions\n",
    "    - Whereas by 2021, this has increased to nearly 34%. Moreover, the increase has been consistent. \n",
    "    \n",
    "---"
   ]
  },
  {
   "cell_type": "code",
   "execution_count": null,
   "metadata": {},
   "outputs": [],
   "source": [
    "In the next part, I will be addressing"
   ]
  }
 ],
 "metadata": {
  "kernelspec": {
   "display_name": "Python 3",
   "language": "python",
   "name": "python3"
  },
  "language_info": {
   "codemirror_mode": {
    "name": "ipython",
    "version": 3
   },
   "file_extension": ".py",
   "mimetype": "text/x-python",
   "name": "python",
   "nbconvert_exporter": "python",
   "pygments_lexer": "ipython3",
   "version": "3.8.3"
  }
 },
 "nbformat": 4,
 "nbformat_minor": 4
}
